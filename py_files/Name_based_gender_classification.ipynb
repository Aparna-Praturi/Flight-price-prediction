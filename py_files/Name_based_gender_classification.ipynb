{
  "nbformat": 4,
  "nbformat_minor": 0,
  "metadata": {
    "colab": {
      "provenance": [],
      "collapsed_sections": [
        "vncDsAP0Gaoa",
        "FJNUwmbgGyua",
        "w6K7xa23Elo4",
        "Y3lxredqlCYt",
        "3RnN4peoiCZX",
        "x71ZqKXriCWQ",
        "7hBIi_osiCS2",
        "JlHwYmJAmNHm",
        "35m5QtbWiB9F",
        "PoPl-ycgm1ru",
        "H0kj-8xxnORC",
        "nA9Y7ga8ng1Z",
        "PBTbrJXOngz2",
        "u3PMJOP6ngxN",
        "dauF4eBmngu3",
        "bKJF3rekwFvQ",
        "MSa1f5Uengrz",
        "GF8Ens_Soomf",
        "0wOQAZs5pc--",
        "lQ7QKXXCp7Bj",
        "KSlN3yHqYklG",
        "ijmpgYnKYklI",
        "EM7whBJCYoAo",
        "85gYPyotYoAp",
        "4Of9eVA-YrdM",
        "F6T5p64dYrdO",
        "q29F0dvdveiT",
        "EXh0U9oCveiU",
        "22aHeOlLveiV",
        "xiyOF9F70UgQ",
        "id1riN9m0vUs",
        "Iwf50b-R2tYG",
        "GMQiZwjn3iu7",
        "WVIkgGqN3qsr",
        "XkPnILGE3zoT",
        "Hlsf0x5436Go",
        "mT9DMSJo4nBL",
        "c49ITxTc407N",
        "OeJFEK0N496M",
        "9ExmJH0g5HBk",
        "cJNqERVU536h",
        "k5UmGsbsOxih",
        "T0VqWOYE6DLQ",
        "qBMux9mC6MCf",
        "TNVZ9zx19K6k",
        "nqoHp30x9hH9",
        "rMDnDkt2B6du",
        "yiiVWRdJDDil",
        "1UUpS68QDMuG",
        "kexQrXU-DjzY",
        "T5CmagL3EC8N",
        "BhH2vgX9EjGr",
        "qjKvONjwE8ra",
        "P1XJ9OREExlT",
        "VFOzZv6IFROw",
        "TIqpNgepFxVj",
        "VfCC591jGiD4",
        "OB4l2ZhMeS1U",
        "ArJBuiUVfxKd",
        "4qY1EAkEfxKe",
        "PiV4Ypx8fxKe",
        "TfvqoZmBfxKf",
        "dJ2tPlVmpsJ0",
        "JWYfwnehpsJ1",
        "-jK_YjpMpsJ2",
        "HAih1iBOpsJ2",
        "zVGeBEFhpsJ2",
        "bmKjuQ-FpsJ3",
        "Fze-IPXLpx6K",
        "7AN1z2sKpx6M",
        "9PIHJqyupx6M",
        "_-qAgymDpx6N",
        "Z-hykwinpx6N",
        "h_CCil-SKHpo",
        "cBFFvTBNJzUa",
        "HvGl1hHyA_VK",
        "EyNgTHvd2WFk",
        "KH5McJBi2d8v",
        "iW_Lq9qf2h6X",
        "-Kee-DAl2viO",
        "gCX9965dhzqZ",
        "gIfDvo9L0UH2"
      ]
    },
    "kernelspec": {
      "name": "python3",
      "display_name": "Python 3"
    },
    "language_info": {
      "name": "python"
    }
  },
  "cells": [
    {
      "cell_type": "markdown",
      "source": [
        "# **Project Name**    -  Name based gender classification\n",
        "\n"
      ],
      "metadata": {
        "id": "vncDsAP0Gaoa"
      }
    },
    {
      "cell_type": "markdown",
      "source": [
        "##### **Project Type**    - Classification\n",
        "##### **Contribution**    - Individual\n",
        "##### **Team Member 1 -** - Aparna Praturi\n"
      ],
      "metadata": {
        "id": "beRrZCGUAJYm"
      }
    },
    {
      "cell_type": "markdown",
      "source": [
        "# **Project Summary -**"
      ],
      "metadata": {
        "id": "FJNUwmbgGyua"
      }
    },
    {
      "cell_type": "markdown",
      "source": [
        "This project aims to predict the gender of a person based on their name.\n",
        "\n",
        "Exploratory data analysis showed that about 1/3 of the records in the dataset have 'none' as gender. We have assumed female names to usually end with a vowel and imputed the none values accordingly.\n",
        "\n",
        "Feature engineering and preprocessing included splitting the name and extracting the firstname, checking if the firstname starts or end with a vowel and creating character n-grams and vecorising with TFIDF.\n",
        "\n",
        "To streamline the preprocessing step and maintain consistency, a Pipeline was created and used.\n",
        "\n",
        "A classification model was developed and tested using logistic regression, decision tree, SVM, KNN, Naive Bayes, and Random forest algorithms. The Random Forest algorithm, after hyperparameter tuning, achieved the best performance with an precision, recall and f1 scores all to be about 0.89.\n",
        "\n",
        "The streamlit app for this prediction system is available in the github repository.\n"
      ],
      "metadata": {
        "id": "F6v_1wHtG2nS"
      }
    },
    {
      "cell_type": "markdown",
      "source": [
        "# **GitHub Link -**"
      ],
      "metadata": {
        "id": "w6K7xa23Elo4"
      }
    },
    {
      "cell_type": "markdown",
      "source": [
        "https://github.com/Aparna-Praturi/Flight-price-prediction"
      ],
      "metadata": {
        "id": "h1o69JH3Eqqn"
      }
    },
    {
      "cell_type": "markdown",
      "source": [
        "# **Problem Statement**\n"
      ],
      "metadata": {
        "id": "yQaldy8SH6Dl"
      }
    },
    {
      "cell_type": "markdown",
      "source": [
        "Make a prediction system which predicts the gender of an individual based on their name."
      ],
      "metadata": {
        "id": "DpeJGUA3kjGy"
      }
    },
    {
      "cell_type": "markdown",
      "source": [
        "## ***1. Know The Data***"
      ],
      "metadata": {
        "id": "HhfV-JJviCcP"
      }
    },
    {
      "cell_type": "markdown",
      "source": [
        "### Import Libraries"
      ],
      "metadata": {
        "id": "Y3lxredqlCYt"
      }
    },
    {
      "cell_type": "code",
      "source": [
        "# Import Libraries\n",
        "!pip uninstall -y scikit-learn\n",
        "!pip install scikit-learn==1.3.1"
      ],
      "metadata": {
        "id": "g03SkTe2CFJl",
        "colab": {
          "base_uri": "https://localhost:8080/"
        },
        "outputId": "ddbbfedf-23b5-42cd-de25-4be5b573af1c"
      },
      "execution_count": 1,
      "outputs": [
        {
          "output_type": "stream",
          "name": "stdout",
          "text": [
            "Found existing installation: scikit-learn 1.6.1\n",
            "Uninstalling scikit-learn-1.6.1:\n",
            "  Successfully uninstalled scikit-learn-1.6.1\n",
            "Collecting scikit-learn==1.3.1\n",
            "  Downloading scikit_learn-1.3.1-cp311-cp311-manylinux_2_17_x86_64.manylinux2014_x86_64.whl.metadata (11 kB)\n",
            "Requirement already satisfied: numpy<2.0,>=1.17.3 in /usr/local/lib/python3.11/dist-packages (from scikit-learn==1.3.1) (1.26.4)\n",
            "Requirement already satisfied: scipy>=1.5.0 in /usr/local/lib/python3.11/dist-packages (from scikit-learn==1.3.1) (1.13.1)\n",
            "Requirement already satisfied: joblib>=1.1.1 in /usr/local/lib/python3.11/dist-packages (from scikit-learn==1.3.1) (1.4.2)\n",
            "Requirement already satisfied: threadpoolctl>=2.0.0 in /usr/local/lib/python3.11/dist-packages (from scikit-learn==1.3.1) (3.5.0)\n",
            "Downloading scikit_learn-1.3.1-cp311-cp311-manylinux_2_17_x86_64.manylinux2014_x86_64.whl (10.9 MB)\n",
            "\u001b[2K   \u001b[90m━━━━━━━━━━━━━━━━━━━━━━━━━━━━━━━━━━━━━━━━\u001b[0m \u001b[32m10.9/10.9 MB\u001b[0m \u001b[31m77.9 MB/s\u001b[0m eta \u001b[36m0:00:00\u001b[0m\n",
            "\u001b[?25hInstalling collected packages: scikit-learn\n",
            "\u001b[31mERROR: pip's dependency resolver does not currently take into account all the packages that are installed. This behaviour is the source of the following dependency conflicts.\n",
            "imbalanced-learn 0.13.0 requires scikit-learn<2,>=1.3.2, but you have scikit-learn 1.3.1 which is incompatible.\u001b[0m\u001b[31m\n",
            "\u001b[0mSuccessfully installed scikit-learn-1.3.1\n"
          ]
        }
      ]
    },
    {
      "cell_type": "code",
      "source": [
        "\n",
        "\n",
        "import numpy as np\n",
        "import pandas as pd\n",
        "import seaborn as sns\n",
        "import random\n",
        "from google.colab import drive\n",
        "import matplotlib.pyplot as plt\n",
        "\n",
        "from sklearn.preprocessing import StandardScaler, MinMaxScaler\n",
        "from sklearn.feature_extraction.text import CountVectorizer, TfidfVectorizer\n",
        "from sklearn.naive_bayes import MultinomialNB\n",
        "from sklearn.pipeline import Pipeline\n",
        "from sklearn.metrics import confusion_matrix\n",
        "from sklearn.metrics import accuracy_score, precision_score, recall_score, f1_score, make_scorer\n",
        "from sklearn.linear_model import LogisticRegression\n",
        "from sklearn.svm import SVC\n",
        "from sklearn.neighbors import KNeighborsClassifier\n",
        "from sklearn.ensemble import RandomForestClassifier\n",
        "import xgboost as xgb\n",
        "\n",
        "from sklearn.base import BaseEstimator, TransformerMixin\n",
        "from nltk import bigrams, trigrams\n",
        "\n",
        "import joblib\n",
        "\n",
        "\n",
        "from sklearn.model_selection import train_test_split, GridSearchCV, RandomizedSearchCV"
      ],
      "metadata": {
        "id": "M8Vqi-pPk-HR"
      },
      "execution_count": 2,
      "outputs": []
    },
    {
      "cell_type": "markdown",
      "source": [
        "### Dataset Loading"
      ],
      "metadata": {
        "id": "3RnN4peoiCZX"
      }
    },
    {
      "cell_type": "code",
      "source": [
        "# Load Dataset\n",
        "\n",
        "drive.mount('/content/drive')"
      ],
      "metadata": {
        "id": "4CkvbW_SlZ_R",
        "colab": {
          "base_uri": "https://localhost:8080/"
        },
        "outputId": "245abb17-92bd-4848-8033-5db74ad3f522"
      },
      "execution_count": 3,
      "outputs": [
        {
          "output_type": "stream",
          "name": "stdout",
          "text": [
            "Mounted at /content/drive\n"
          ]
        }
      ]
    },
    {
      "cell_type": "markdown",
      "source": [
        "### Dataset First View"
      ],
      "metadata": {
        "id": "x71ZqKXriCWQ"
      }
    },
    {
      "cell_type": "code",
      "source": [
        "# Dataset First Look\n",
        "\n",
        "path ='/content/drive/MyDrive/Data science/Datasets/travel_capstone/users.csv'\n",
        "\n",
        "df = pd.read_csv(path)"
      ],
      "metadata": {
        "id": "LWNFOSvLl09H"
      },
      "execution_count": 4,
      "outputs": []
    },
    {
      "cell_type": "code",
      "source": [
        "df.head()"
      ],
      "metadata": {
        "id": "7-RQMuBKb4TO",
        "colab": {
          "base_uri": "https://localhost:8080/",
          "height": 0
        },
        "outputId": "5ac10bd8-dcd9-4e4c-9b03-85fa66f884dd"
      },
      "execution_count": 5,
      "outputs": [
        {
          "output_type": "execute_result",
          "data": {
            "text/plain": [
              "   code company             name  gender  age\n",
              "0     0    4You        Roy Braun    male   21\n",
              "1     1    4You   Joseph Holsten    male   37\n",
              "2     2    4You    Wilma Mcinnis  female   48\n",
              "3     3    4You     Paula Daniel  female   23\n",
              "4     4    4You  Patricia Carson  female   44"
            ],
            "text/html": [
              "\n",
              "  <div id=\"df-c5abb487-d121-4586-8027-490b8e018500\" class=\"colab-df-container\">\n",
              "    <div>\n",
              "<style scoped>\n",
              "    .dataframe tbody tr th:only-of-type {\n",
              "        vertical-align: middle;\n",
              "    }\n",
              "\n",
              "    .dataframe tbody tr th {\n",
              "        vertical-align: top;\n",
              "    }\n",
              "\n",
              "    .dataframe thead th {\n",
              "        text-align: right;\n",
              "    }\n",
              "</style>\n",
              "<table border=\"1\" class=\"dataframe\">\n",
              "  <thead>\n",
              "    <tr style=\"text-align: right;\">\n",
              "      <th></th>\n",
              "      <th>code</th>\n",
              "      <th>company</th>\n",
              "      <th>name</th>\n",
              "      <th>gender</th>\n",
              "      <th>age</th>\n",
              "    </tr>\n",
              "  </thead>\n",
              "  <tbody>\n",
              "    <tr>\n",
              "      <th>0</th>\n",
              "      <td>0</td>\n",
              "      <td>4You</td>\n",
              "      <td>Roy Braun</td>\n",
              "      <td>male</td>\n",
              "      <td>21</td>\n",
              "    </tr>\n",
              "    <tr>\n",
              "      <th>1</th>\n",
              "      <td>1</td>\n",
              "      <td>4You</td>\n",
              "      <td>Joseph Holsten</td>\n",
              "      <td>male</td>\n",
              "      <td>37</td>\n",
              "    </tr>\n",
              "    <tr>\n",
              "      <th>2</th>\n",
              "      <td>2</td>\n",
              "      <td>4You</td>\n",
              "      <td>Wilma Mcinnis</td>\n",
              "      <td>female</td>\n",
              "      <td>48</td>\n",
              "    </tr>\n",
              "    <tr>\n",
              "      <th>3</th>\n",
              "      <td>3</td>\n",
              "      <td>4You</td>\n",
              "      <td>Paula Daniel</td>\n",
              "      <td>female</td>\n",
              "      <td>23</td>\n",
              "    </tr>\n",
              "    <tr>\n",
              "      <th>4</th>\n",
              "      <td>4</td>\n",
              "      <td>4You</td>\n",
              "      <td>Patricia Carson</td>\n",
              "      <td>female</td>\n",
              "      <td>44</td>\n",
              "    </tr>\n",
              "  </tbody>\n",
              "</table>\n",
              "</div>\n",
              "    <div class=\"colab-df-buttons\">\n",
              "\n",
              "  <div class=\"colab-df-container\">\n",
              "    <button class=\"colab-df-convert\" onclick=\"convertToInteractive('df-c5abb487-d121-4586-8027-490b8e018500')\"\n",
              "            title=\"Convert this dataframe to an interactive table.\"\n",
              "            style=\"display:none;\">\n",
              "\n",
              "  <svg xmlns=\"http://www.w3.org/2000/svg\" height=\"24px\" viewBox=\"0 -960 960 960\">\n",
              "    <path d=\"M120-120v-720h720v720H120Zm60-500h600v-160H180v160Zm220 220h160v-160H400v160Zm0 220h160v-160H400v160ZM180-400h160v-160H180v160Zm440 0h160v-160H620v160ZM180-180h160v-160H180v160Zm440 0h160v-160H620v160Z\"/>\n",
              "  </svg>\n",
              "    </button>\n",
              "\n",
              "  <style>\n",
              "    .colab-df-container {\n",
              "      display:flex;\n",
              "      gap: 12px;\n",
              "    }\n",
              "\n",
              "    .colab-df-convert {\n",
              "      background-color: #E8F0FE;\n",
              "      border: none;\n",
              "      border-radius: 50%;\n",
              "      cursor: pointer;\n",
              "      display: none;\n",
              "      fill: #1967D2;\n",
              "      height: 32px;\n",
              "      padding: 0 0 0 0;\n",
              "      width: 32px;\n",
              "    }\n",
              "\n",
              "    .colab-df-convert:hover {\n",
              "      background-color: #E2EBFA;\n",
              "      box-shadow: 0px 1px 2px rgba(60, 64, 67, 0.3), 0px 1px 3px 1px rgba(60, 64, 67, 0.15);\n",
              "      fill: #174EA6;\n",
              "    }\n",
              "\n",
              "    .colab-df-buttons div {\n",
              "      margin-bottom: 4px;\n",
              "    }\n",
              "\n",
              "    [theme=dark] .colab-df-convert {\n",
              "      background-color: #3B4455;\n",
              "      fill: #D2E3FC;\n",
              "    }\n",
              "\n",
              "    [theme=dark] .colab-df-convert:hover {\n",
              "      background-color: #434B5C;\n",
              "      box-shadow: 0px 1px 3px 1px rgba(0, 0, 0, 0.15);\n",
              "      filter: drop-shadow(0px 1px 2px rgba(0, 0, 0, 0.3));\n",
              "      fill: #FFFFFF;\n",
              "    }\n",
              "  </style>\n",
              "\n",
              "    <script>\n",
              "      const buttonEl =\n",
              "        document.querySelector('#df-c5abb487-d121-4586-8027-490b8e018500 button.colab-df-convert');\n",
              "      buttonEl.style.display =\n",
              "        google.colab.kernel.accessAllowed ? 'block' : 'none';\n",
              "\n",
              "      async function convertToInteractive(key) {\n",
              "        const element = document.querySelector('#df-c5abb487-d121-4586-8027-490b8e018500');\n",
              "        const dataTable =\n",
              "          await google.colab.kernel.invokeFunction('convertToInteractive',\n",
              "                                                    [key], {});\n",
              "        if (!dataTable) return;\n",
              "\n",
              "        const docLinkHtml = 'Like what you see? Visit the ' +\n",
              "          '<a target=\"_blank\" href=https://colab.research.google.com/notebooks/data_table.ipynb>data table notebook</a>'\n",
              "          + ' to learn more about interactive tables.';\n",
              "        element.innerHTML = '';\n",
              "        dataTable['output_type'] = 'display_data';\n",
              "        await google.colab.output.renderOutput(dataTable, element);\n",
              "        const docLink = document.createElement('div');\n",
              "        docLink.innerHTML = docLinkHtml;\n",
              "        element.appendChild(docLink);\n",
              "      }\n",
              "    </script>\n",
              "  </div>\n",
              "\n",
              "\n",
              "<div id=\"df-b447f008-671e-48c0-a2bb-1f83334415fb\">\n",
              "  <button class=\"colab-df-quickchart\" onclick=\"quickchart('df-b447f008-671e-48c0-a2bb-1f83334415fb')\"\n",
              "            title=\"Suggest charts\"\n",
              "            style=\"display:none;\">\n",
              "\n",
              "<svg xmlns=\"http://www.w3.org/2000/svg\" height=\"24px\"viewBox=\"0 0 24 24\"\n",
              "     width=\"24px\">\n",
              "    <g>\n",
              "        <path d=\"M19 3H5c-1.1 0-2 .9-2 2v14c0 1.1.9 2 2 2h14c1.1 0 2-.9 2-2V5c0-1.1-.9-2-2-2zM9 17H7v-7h2v7zm4 0h-2V7h2v10zm4 0h-2v-4h2v4z\"/>\n",
              "    </g>\n",
              "</svg>\n",
              "  </button>\n",
              "\n",
              "<style>\n",
              "  .colab-df-quickchart {\n",
              "      --bg-color: #E8F0FE;\n",
              "      --fill-color: #1967D2;\n",
              "      --hover-bg-color: #E2EBFA;\n",
              "      --hover-fill-color: #174EA6;\n",
              "      --disabled-fill-color: #AAA;\n",
              "      --disabled-bg-color: #DDD;\n",
              "  }\n",
              "\n",
              "  [theme=dark] .colab-df-quickchart {\n",
              "      --bg-color: #3B4455;\n",
              "      --fill-color: #D2E3FC;\n",
              "      --hover-bg-color: #434B5C;\n",
              "      --hover-fill-color: #FFFFFF;\n",
              "      --disabled-bg-color: #3B4455;\n",
              "      --disabled-fill-color: #666;\n",
              "  }\n",
              "\n",
              "  .colab-df-quickchart {\n",
              "    background-color: var(--bg-color);\n",
              "    border: none;\n",
              "    border-radius: 50%;\n",
              "    cursor: pointer;\n",
              "    display: none;\n",
              "    fill: var(--fill-color);\n",
              "    height: 32px;\n",
              "    padding: 0;\n",
              "    width: 32px;\n",
              "  }\n",
              "\n",
              "  .colab-df-quickchart:hover {\n",
              "    background-color: var(--hover-bg-color);\n",
              "    box-shadow: 0 1px 2px rgba(60, 64, 67, 0.3), 0 1px 3px 1px rgba(60, 64, 67, 0.15);\n",
              "    fill: var(--button-hover-fill-color);\n",
              "  }\n",
              "\n",
              "  .colab-df-quickchart-complete:disabled,\n",
              "  .colab-df-quickchart-complete:disabled:hover {\n",
              "    background-color: var(--disabled-bg-color);\n",
              "    fill: var(--disabled-fill-color);\n",
              "    box-shadow: none;\n",
              "  }\n",
              "\n",
              "  .colab-df-spinner {\n",
              "    border: 2px solid var(--fill-color);\n",
              "    border-color: transparent;\n",
              "    border-bottom-color: var(--fill-color);\n",
              "    animation:\n",
              "      spin 1s steps(1) infinite;\n",
              "  }\n",
              "\n",
              "  @keyframes spin {\n",
              "    0% {\n",
              "      border-color: transparent;\n",
              "      border-bottom-color: var(--fill-color);\n",
              "      border-left-color: var(--fill-color);\n",
              "    }\n",
              "    20% {\n",
              "      border-color: transparent;\n",
              "      border-left-color: var(--fill-color);\n",
              "      border-top-color: var(--fill-color);\n",
              "    }\n",
              "    30% {\n",
              "      border-color: transparent;\n",
              "      border-left-color: var(--fill-color);\n",
              "      border-top-color: var(--fill-color);\n",
              "      border-right-color: var(--fill-color);\n",
              "    }\n",
              "    40% {\n",
              "      border-color: transparent;\n",
              "      border-right-color: var(--fill-color);\n",
              "      border-top-color: var(--fill-color);\n",
              "    }\n",
              "    60% {\n",
              "      border-color: transparent;\n",
              "      border-right-color: var(--fill-color);\n",
              "    }\n",
              "    80% {\n",
              "      border-color: transparent;\n",
              "      border-right-color: var(--fill-color);\n",
              "      border-bottom-color: var(--fill-color);\n",
              "    }\n",
              "    90% {\n",
              "      border-color: transparent;\n",
              "      border-bottom-color: var(--fill-color);\n",
              "    }\n",
              "  }\n",
              "</style>\n",
              "\n",
              "  <script>\n",
              "    async function quickchart(key) {\n",
              "      const quickchartButtonEl =\n",
              "        document.querySelector('#' + key + ' button');\n",
              "      quickchartButtonEl.disabled = true;  // To prevent multiple clicks.\n",
              "      quickchartButtonEl.classList.add('colab-df-spinner');\n",
              "      try {\n",
              "        const charts = await google.colab.kernel.invokeFunction(\n",
              "            'suggestCharts', [key], {});\n",
              "      } catch (error) {\n",
              "        console.error('Error during call to suggestCharts:', error);\n",
              "      }\n",
              "      quickchartButtonEl.classList.remove('colab-df-spinner');\n",
              "      quickchartButtonEl.classList.add('colab-df-quickchart-complete');\n",
              "    }\n",
              "    (() => {\n",
              "      let quickchartButtonEl =\n",
              "        document.querySelector('#df-b447f008-671e-48c0-a2bb-1f83334415fb button');\n",
              "      quickchartButtonEl.style.display =\n",
              "        google.colab.kernel.accessAllowed ? 'block' : 'none';\n",
              "    })();\n",
              "  </script>\n",
              "</div>\n",
              "\n",
              "    </div>\n",
              "  </div>\n"
            ],
            "application/vnd.google.colaboratory.intrinsic+json": {
              "type": "dataframe",
              "variable_name": "df",
              "summary": "{\n  \"name\": \"df\",\n  \"rows\": 1340,\n  \"fields\": [\n    {\n      \"column\": \"code\",\n      \"properties\": {\n        \"dtype\": \"number\",\n        \"std\": 386,\n        \"min\": 0,\n        \"max\": 1339,\n        \"num_unique_values\": 1340,\n        \"samples\": [\n          394,\n          881,\n          358\n        ],\n        \"semantic_type\": \"\",\n        \"description\": \"\"\n      }\n    },\n    {\n      \"column\": \"company\",\n      \"properties\": {\n        \"dtype\": \"category\",\n        \"num_unique_values\": 5,\n        \"samples\": [\n          \"Monsters CYA\",\n          \"Umbrella LTDA\",\n          \"Wonka Company\"\n        ],\n        \"semantic_type\": \"\",\n        \"description\": \"\"\n      }\n    },\n    {\n      \"column\": \"name\",\n      \"properties\": {\n        \"dtype\": \"string\",\n        \"num_unique_values\": 1338,\n        \"samples\": [\n          \"Nancy Fanno\",\n          \"James Ayala\",\n          \"Carolyn Caldwell\"\n        ],\n        \"semantic_type\": \"\",\n        \"description\": \"\"\n      }\n    },\n    {\n      \"column\": \"gender\",\n      \"properties\": {\n        \"dtype\": \"category\",\n        \"num_unique_values\": 3,\n        \"samples\": [\n          \"male\",\n          \"female\",\n          \"none\"\n        ],\n        \"semantic_type\": \"\",\n        \"description\": \"\"\n      }\n    },\n    {\n      \"column\": \"age\",\n      \"properties\": {\n        \"dtype\": \"number\",\n        \"std\": 12,\n        \"min\": 21,\n        \"max\": 65,\n        \"num_unique_values\": 45,\n        \"samples\": [\n          43,\n          42,\n          24\n        ],\n        \"semantic_type\": \"\",\n        \"description\": \"\"\n      }\n    }\n  ]\n}"
            }
          },
          "metadata": {},
          "execution_count": 5
        }
      ]
    },
    {
      "cell_type": "markdown",
      "source": [
        "### Dataset Rows & Columns count"
      ],
      "metadata": {
        "id": "7hBIi_osiCS2"
      }
    },
    {
      "cell_type": "code",
      "source": [
        "df.shape"
      ],
      "metadata": {
        "id": "DT1x5Ge2cJV2",
        "colab": {
          "base_uri": "https://localhost:8080/"
        },
        "outputId": "2c057e16-5e5f-405e-9d9d-15e832b874d9"
      },
      "execution_count": 6,
      "outputs": [
        {
          "output_type": "execute_result",
          "data": {
            "text/plain": [
              "(1340, 5)"
            ]
          },
          "metadata": {},
          "execution_count": 6
        }
      ]
    },
    {
      "cell_type": "markdown",
      "source": [
        "### Dataset Information"
      ],
      "metadata": {
        "id": "JlHwYmJAmNHm"
      }
    },
    {
      "cell_type": "code",
      "source": [
        "df.info()"
      ],
      "metadata": {
        "id": "ED7Kc6qdc28W",
        "colab": {
          "base_uri": "https://localhost:8080/"
        },
        "outputId": "1824c161-dbe9-4d79-db7f-16aa167c1d54"
      },
      "execution_count": 7,
      "outputs": [
        {
          "output_type": "stream",
          "name": "stdout",
          "text": [
            "<class 'pandas.core.frame.DataFrame'>\n",
            "RangeIndex: 1340 entries, 0 to 1339\n",
            "Data columns (total 5 columns):\n",
            " #   Column   Non-Null Count  Dtype \n",
            "---  ------   --------------  ----- \n",
            " 0   code     1340 non-null   int64 \n",
            " 1   company  1340 non-null   object\n",
            " 2   name     1340 non-null   object\n",
            " 3   gender   1340 non-null   object\n",
            " 4   age      1340 non-null   int64 \n",
            "dtypes: int64(2), object(3)\n",
            "memory usage: 52.5+ KB\n"
          ]
        }
      ]
    },
    {
      "cell_type": "markdown",
      "source": [
        "#### Duplicate Values"
      ],
      "metadata": {
        "id": "35m5QtbWiB9F"
      }
    },
    {
      "cell_type": "code",
      "source": [
        "# finding duplicates\n",
        "\n",
        "df.duplicated().sum()\n",
        "\n"
      ],
      "metadata": {
        "id": "5n9SOuWHcQ_G",
        "colab": {
          "base_uri": "https://localhost:8080/"
        },
        "outputId": "5d4d7b94-7200-4747-c804-fa7ab5db4e0c"
      },
      "execution_count": 8,
      "outputs": [
        {
          "output_type": "execute_result",
          "data": {
            "text/plain": [
              "0"
            ]
          },
          "metadata": {},
          "execution_count": 8
        }
      ]
    },
    {
      "cell_type": "markdown",
      "source": [
        "#### Missing Values/Null Values"
      ],
      "metadata": {
        "id": "PoPl-ycgm1ru"
      }
    },
    {
      "cell_type": "code",
      "source": [
        "# Missing Values/Null Values Count"
      ],
      "metadata": {
        "id": "GgHWkxvamxVg"
      },
      "execution_count": 9,
      "outputs": []
    },
    {
      "cell_type": "code",
      "source": [
        "df.isna().sum()"
      ],
      "metadata": {
        "id": "xKcDiNfBb9rG",
        "colab": {
          "base_uri": "https://localhost:8080/",
          "height": 0
        },
        "outputId": "e0c4e1a9-4e55-4753-e0a6-b073d4b00f6e"
      },
      "execution_count": 10,
      "outputs": [
        {
          "output_type": "execute_result",
          "data": {
            "text/plain": [
              "code       0\n",
              "company    0\n",
              "name       0\n",
              "gender     0\n",
              "age        0\n",
              "dtype: int64"
            ],
            "text/html": [
              "<div>\n",
              "<style scoped>\n",
              "    .dataframe tbody tr th:only-of-type {\n",
              "        vertical-align: middle;\n",
              "    }\n",
              "\n",
              "    .dataframe tbody tr th {\n",
              "        vertical-align: top;\n",
              "    }\n",
              "\n",
              "    .dataframe thead th {\n",
              "        text-align: right;\n",
              "    }\n",
              "</style>\n",
              "<table border=\"1\" class=\"dataframe\">\n",
              "  <thead>\n",
              "    <tr style=\"text-align: right;\">\n",
              "      <th></th>\n",
              "      <th>0</th>\n",
              "    </tr>\n",
              "  </thead>\n",
              "  <tbody>\n",
              "    <tr>\n",
              "      <th>code</th>\n",
              "      <td>0</td>\n",
              "    </tr>\n",
              "    <tr>\n",
              "      <th>company</th>\n",
              "      <td>0</td>\n",
              "    </tr>\n",
              "    <tr>\n",
              "      <th>name</th>\n",
              "      <td>0</td>\n",
              "    </tr>\n",
              "    <tr>\n",
              "      <th>gender</th>\n",
              "      <td>0</td>\n",
              "    </tr>\n",
              "    <tr>\n",
              "      <th>age</th>\n",
              "      <td>0</td>\n",
              "    </tr>\n",
              "  </tbody>\n",
              "</table>\n",
              "</div><br><label><b>dtype:</b> int64</label>"
            ]
          },
          "metadata": {},
          "execution_count": 10
        }
      ]
    },
    {
      "cell_type": "markdown",
      "source": [
        "### What did you know about your dataset?"
      ],
      "metadata": {
        "id": "H0kj-8xxnORC"
      }
    },
    {
      "cell_type": "markdown",
      "source": [
        "The data set has 1340 rows and 5 columns with no missing values and no duplicates."
      ],
      "metadata": {
        "id": "gfoNAAC-nUe_"
      }
    },
    {
      "cell_type": "markdown",
      "source": [
        "## ***2. Understanding The Variables***"
      ],
      "metadata": {
        "id": "nA9Y7ga8ng1Z"
      }
    },
    {
      "cell_type": "code",
      "source": [
        "# Dataset Columns\n",
        "\n",
        "df.columns"
      ],
      "metadata": {
        "id": "j7xfkqrt5Ag5",
        "colab": {
          "base_uri": "https://localhost:8080/"
        },
        "outputId": "21653b44-8aa5-4608-f612-5c02cc765827"
      },
      "execution_count": 11,
      "outputs": [
        {
          "output_type": "execute_result",
          "data": {
            "text/plain": [
              "Index(['code', 'company', 'name', 'gender', 'age'], dtype='object')"
            ]
          },
          "metadata": {},
          "execution_count": 11
        }
      ]
    },
    {
      "cell_type": "code",
      "source": [
        "# Dataset Describe"
      ],
      "metadata": {
        "id": "DnOaZdaE5Q5t"
      },
      "execution_count": 12,
      "outputs": []
    },
    {
      "cell_type": "markdown",
      "source": [
        "### Variables Description"
      ],
      "metadata": {
        "id": "PBTbrJXOngz2"
      }
    },
    {
      "cell_type": "markdown",
      "source": [
        "Answer Here"
      ],
      "metadata": {
        "id": "aJV4KIxSnxay"
      }
    },
    {
      "cell_type": "markdown",
      "source": [
        "### Check Unique Values for each variable."
      ],
      "metadata": {
        "id": "u3PMJOP6ngxN"
      }
    },
    {
      "cell_type": "code",
      "source": [
        "# Check Unique Values for each variable.\n",
        "\n",
        "[df[i].nunique() for i in df.columns]"
      ],
      "metadata": {
        "id": "zms12Yq5n-jE",
        "colab": {
          "base_uri": "https://localhost:8080/"
        },
        "outputId": "2f55b240-8906-4ead-fb6e-74e70cf03ea8"
      },
      "execution_count": 13,
      "outputs": [
        {
          "output_type": "execute_result",
          "data": {
            "text/plain": [
              "[1340, 5, 1338, 3, 45]"
            ]
          },
          "metadata": {},
          "execution_count": 13
        }
      ]
    },
    {
      "cell_type": "markdown",
      "source": [
        "There are 3 people with the same name."
      ],
      "metadata": {
        "id": "_XCCIlMKCcL5"
      }
    },
    {
      "cell_type": "code",
      "source": [
        "df['gender'].unique()"
      ],
      "metadata": {
        "id": "qf1G1xDGSUnq",
        "colab": {
          "base_uri": "https://localhost:8080/"
        },
        "outputId": "e3f6f6a1-d167-465b-ec64-878b256db496"
      },
      "execution_count": 14,
      "outputs": [
        {
          "output_type": "execute_result",
          "data": {
            "text/plain": [
              "array(['male', 'female', 'none'], dtype=object)"
            ]
          },
          "metadata": {},
          "execution_count": 14
        }
      ]
    },
    {
      "cell_type": "code",
      "source": [
        "df['gender'].value_counts()"
      ],
      "metadata": {
        "id": "LLj1Sv2FSZjB",
        "colab": {
          "base_uri": "https://localhost:8080/",
          "height": 0
        },
        "outputId": "d98ccf50-f837-4765-de78-571e82dcce7b"
      },
      "execution_count": 15,
      "outputs": [
        {
          "output_type": "execute_result",
          "data": {
            "text/plain": [
              "gender\n",
              "male      452\n",
              "female    448\n",
              "none      440\n",
              "Name: count, dtype: int64"
            ],
            "text/html": [
              "<div>\n",
              "<style scoped>\n",
              "    .dataframe tbody tr th:only-of-type {\n",
              "        vertical-align: middle;\n",
              "    }\n",
              "\n",
              "    .dataframe tbody tr th {\n",
              "        vertical-align: top;\n",
              "    }\n",
              "\n",
              "    .dataframe thead th {\n",
              "        text-align: right;\n",
              "    }\n",
              "</style>\n",
              "<table border=\"1\" class=\"dataframe\">\n",
              "  <thead>\n",
              "    <tr style=\"text-align: right;\">\n",
              "      <th></th>\n",
              "      <th>count</th>\n",
              "    </tr>\n",
              "    <tr>\n",
              "      <th>gender</th>\n",
              "      <th></th>\n",
              "    </tr>\n",
              "  </thead>\n",
              "  <tbody>\n",
              "    <tr>\n",
              "      <th>male</th>\n",
              "      <td>452</td>\n",
              "    </tr>\n",
              "    <tr>\n",
              "      <th>female</th>\n",
              "      <td>448</td>\n",
              "    </tr>\n",
              "    <tr>\n",
              "      <th>none</th>\n",
              "      <td>440</td>\n",
              "    </tr>\n",
              "  </tbody>\n",
              "</table>\n",
              "</div><br><label><b>dtype:</b> int64</label>"
            ]
          },
          "metadata": {},
          "execution_count": 15
        }
      ]
    },
    {
      "cell_type": "markdown",
      "source": [
        "## 3. ***Data Wrangling***"
      ],
      "metadata": {
        "id": "dauF4eBmngu3"
      }
    },
    {
      "cell_type": "markdown",
      "source": [
        "### Data Wrangling Code"
      ],
      "metadata": {
        "id": "bKJF3rekwFvQ"
      }
    },
    {
      "cell_type": "code",
      "source": [
        "# Making separate columns for first and last names\n",
        "\n",
        "df1 = df.copy()\n",
        "\n",
        "df1['Firstname'] = [df1['name'][i].split(\" \")[0] for i in range(len(df1))]\n",
        "df1['Lastname'] = [df1['name'][i].split(\" \")[1] for i in range(len(df1))]"
      ],
      "metadata": {
        "id": "wk-9a2fpoLcV"
      },
      "execution_count": 16,
      "outputs": []
    },
    {
      "cell_type": "markdown",
      "source": [
        "### What all manipulations have you done and insights you found?"
      ],
      "metadata": {
        "id": "MSa1f5Uengrz"
      }
    },
    {
      "cell_type": "markdown",
      "source": [
        "Answer Here."
      ],
      "metadata": {
        "id": "LbyXE7I1olp8"
      }
    },
    {
      "cell_type": "markdown",
      "source": [
        "## ***4. Data Vizualization, Storytelling & Experimenting with charts : Understand the relationships between variables***"
      ],
      "metadata": {
        "id": "GF8Ens_Soomf"
      }
    },
    {
      "cell_type": "markdown",
      "source": [
        "#### Chart - 1 Which company has the highest number of customers in the dataset?"
      ],
      "metadata": {
        "id": "0wOQAZs5pc--"
      }
    },
    {
      "cell_type": "code",
      "source": [
        "# Chart - 1 visualization code\n",
        "\n",
        "y = df1.groupby('company')['code'].count()\n",
        "x = y.index\n",
        "plt.pie(y,labels=x,autopct='%1.2f%%')\n",
        "plt.show()"
      ],
      "metadata": {
        "id": "7v_ESjsspbW7",
        "colab": {
          "base_uri": "https://localhost:8080/",
          "height": 0
        },
        "outputId": "baed8dae-9ad8-4e00-82db-e595365374c9"
      },
      "execution_count": 17,
      "outputs": [
        {
          "output_type": "display_data",
          "data": {
            "text/plain": [
              "<Figure size 640x480 with 1 Axes>"
            ],
            "image/png": "[encoded data removed]"
          },
          "metadata": {}
        }
      ]
    },
    {
      "cell_type": "markdown",
      "source": [
        "Insights:"
      ],
      "metadata": {
        "id": "lQ7QKXXCp7Bj"
      }
    },
    {
      "cell_type": "markdown",
      "source": [
        " 4you has the leading marketshare of 33.8% follwed byAcme factory at 19.4 % while Monsters CYA and UmbrellaLDTA have the least market share of about 14% each."
      ],
      "metadata": {
        "id": "C_j1G7yiqdRP"
      }
    },
    {
      "cell_type": "markdown",
      "source": [
        "#### Chart - 2. what percentage of the customers are females? Is there any diaparity among customers of a particular gender chossing a particular company?"
      ],
      "metadata": {
        "id": "KSlN3yHqYklG"
      }
    },
    {
      "cell_type": "code",
      "source": [
        "# Making the figure\n",
        "\n",
        "fig, axs = plt.subplots(1, 2, figsize = (15,8))\n",
        "\n",
        "# subplot 1\n",
        "\n",
        "y = df1.groupby(['gender'])['code'].count()\n",
        "\n",
        "x = y.index\n",
        "\n",
        "axs[0].pie(y,labels=x,autopct='%1.2f%%')\n",
        "\n",
        "\n",
        "# subplot 2\n",
        "y = df1.groupby(['company','gender'])['code'].count().reset_index()\n",
        "\n",
        "pivot_df =y.pivot(index = 'company',columns = 'gender',values = 'code')\n",
        "\n",
        "pivot_df.plot(kind='barh', stacked=True, ax = axs[1])\n",
        "\n",
        "# Show the plots\n",
        "\n",
        "plt.tight_layout()\n",
        "plt.show()\n",
        "\n"
      ],
      "metadata": {
        "id": "R4YgtaqtYklH",
        "colab": {
          "base_uri": "https://localhost:8080/",
          "height": 0
        },
        "outputId": "2a7ca11e-ab88-4d65-fb5b-e0c5f050f9ac"
      },
      "execution_count": 18,
      "outputs": [
        {
          "output_type": "display_data",
          "data": {
            "text/plain": [
              "<Figure size 1500x800 with 2 Axes>"
            ],
            "image/png": "[encoded data removed]"
          },
          "metadata": {}
        }
      ]
    },
    {
      "cell_type": "markdown",
      "source": [
        "Insights:\n",
        "\n",
        "1. Males, Females and others all constitute about 1/3 rd each of the customers.\n",
        "\n",
        "2. Umbrella LDTA and Wonka company have lesser share of customers identifying as 'None' whereas Monsters CYA has a slighlty less male customer base."
      ],
      "metadata": {
        "id": "PSx9atu2YklI"
      }
    },
    {
      "cell_type": "markdown",
      "source": [
        "#### Chart - 3: What is the age distribution of male, female and other customers?"
      ],
      "metadata": {
        "id": "EM7whBJCYoAo"
      }
    },
    {
      "cell_type": "code",
      "source": [
        "# Chart - 3 visualization code\n",
        "\n",
        "fig,axs = plt.subplots(1,3,figsize=(15,5))\n",
        "\n",
        "df_m = df1[df1['gender']=='male']\n",
        "df_f = df1[df1['gender']=='female']\n",
        "df_o = df1[df1['gender']=='none']\n",
        "\n",
        "axs[0].hist(df_m['age'], bins=15, alpha=0.5, edgecolor='black', label='Male')\n",
        "axs[1].hist(df_f['age'], bins=15, alpha=0.5,edgecolor='black', label='Female')\n",
        "axs[2].hist(df_o['age'], bins=15, alpha=0.5, edgecolor='black',label='Other')\n",
        "plt.show()"
      ],
      "metadata": {
        "id": "t6GMdE67YoAp",
        "colab": {
          "base_uri": "https://localhost:8080/",
          "height": 0
        },
        "outputId": "e492c5a0-c185-4c5f-c0dc-ff2e0f2de300"
      },
      "execution_count": 19,
      "outputs": [
        {
          "output_type": "display_data",
          "data": {
            "text/plain": [
              "<Figure size 1500x500 with 3 Axes>"
            ],
            "image/png": "[encoded data removed]"
          },
          "metadata": {}
        }
      ]
    },
    {
      "cell_type": "markdown",
      "source": [
        "Insights:\n",
        "\n",
        "All the genders have a uniform distribution of age starting from about 21 to about 65."
      ],
      "metadata": {
        "id": "4jstXR6OYoAp"
      }
    },
    {
      "cell_type": "markdown",
      "source": [
        "#### Chart - 4 What are the most common first names and last names?"
      ],
      "metadata": {
        "id": "4Of9eVA-YrdM"
      }
    },
    {
      "cell_type": "code",
      "source": [
        "# Chart - 4 visualization code\n",
        "\n",
        "fig,axs = plt.subplots(1,2,figsize=(15,5))\n",
        "\n",
        "\n",
        "df1['Firstname'].value_counts().head(10).plot(kind='barh',ax=axs[0] )\n",
        "df1['Lastname'].value_counts().head(10).plot(kind='barh',ax=axs[1], color ='green')\n",
        "\n",
        "plt.tight_layout()\n",
        "plt.show()"
      ],
      "metadata": {
        "id": "irlUoxc8YrdO",
        "colab": {
          "base_uri": "https://localhost:8080/",
          "height": 0
        },
        "outputId": "054d4512-0c57-4943-a44a-7f4e7ae57d97"
      },
      "execution_count": 20,
      "outputs": [
        {
          "output_type": "display_data",
          "data": {
            "text/plain": [
              "<Figure size 1500x500 with 2 Axes>"
            ],
            "image/png": "[encoded data removed]"
          },
          "metadata": {}
        }
      ]
    },
    {
      "cell_type": "markdown",
      "source": [
        "Insights:\n",
        "\n",
        "1. The top 5 most common first names are robert, John, David, William and Mary.\n",
        "\n",
        "2. The top 5 most common last names are smith, Williams, miller, Harris and Johnson."
      ],
      "metadata": {
        "id": "Xx8WAJvtYrdO"
      }
    },
    {
      "cell_type": "markdown",
      "source": [
        "## ***5. Feature Engineering***"
      ],
      "metadata": {
        "id": "yLjJCtPM0KBk"
      }
    },
    {
      "cell_type": "markdown",
      "source": [
        "### 1. Handling Missing Values"
      ],
      "metadata": {
        "id": "xiyOF9F70UgQ"
      }
    },
    {
      "cell_type": "markdown",
      "source": [
        "\n",
        "There are no missing value in the dataset."
      ],
      "metadata": {
        "id": "rECMa6kGZnzR"
      }
    },
    {
      "cell_type": "markdown",
      "source": [
        "### 2. Handling Outliers"
      ],
      "metadata": {
        "id": "id1riN9m0vUs"
      }
    },
    {
      "cell_type": "markdown",
      "source": [
        "There are no outliers in the dataset."
      ],
      "metadata": {
        "id": "5GQ3UhduZt_A"
      }
    },
    {
      "cell_type": "markdown",
      "source": [
        "### 3. Feature Manipulation & Selection"
      ],
      "metadata": {
        "id": "-oLEiFgy-5Pf"
      }
    },
    {
      "cell_type": "markdown",
      "source": [
        "Split name into Firstname and Last name"
      ],
      "metadata": {
        "id": "ooAbnsukn2_1"
      }
    },
    {
      "cell_type": "code",
      "source": [
        "class Namesplitter(BaseEstimator, TransformerMixin):\n",
        "\n",
        "    def __init__(self, name_col):\n",
        "        self.name_col = name_col\n",
        "\n",
        "    def fit(self, X, y=None):\n",
        "        return self\n",
        "\n",
        "    def transform(self, X):\n",
        "        X_copy = pd.DataFrame(X)\n",
        "        X_copy['Firstname'] = X_copy[self.name_col].apply(lambda x: x.split(\" \")[0])\n",
        "\n",
        "        X_copy.drop(columns = [self.name_col], inplace = True)\n",
        "\n",
        "        return X_copy[['Firstname']]"
      ],
      "metadata": {
        "id": "T-5cDLx4bf14"
      },
      "execution_count": 21,
      "outputs": []
    },
    {
      "cell_type": "markdown",
      "source": [
        "Check if firstname starts or ends with a vowel"
      ],
      "metadata": {
        "id": "NQbe6n8On9ot"
      }
    },
    {
      "cell_type": "code",
      "source": [
        "class IsVowelEnd(BaseEstimator, TransformerMixin):\n",
        "\n",
        "    def __init__(self, col_name):\n",
        "        self.col_name= col_name\n",
        "\n",
        "    def fit(self, X, y=None):\n",
        "        return self\n",
        "\n",
        "    def transform(self, X):\n",
        "        vowels = 'aeiouAEIOU'\n",
        "        X['is_vowel_end'] = X[self.col_name].apply(lambda x: 1 if isinstance(x, str) and x[-1] in vowels else 0)\n",
        "        X['is_vowel_start'] = X[self.col_name].apply(lambda x: 1 if isinstance(x, str) and x[0] in vowels else 0)\n",
        "        return X"
      ],
      "metadata": {
        "id": "D3BiEUJjoM9b"
      },
      "execution_count": 22,
      "outputs": []
    },
    {
      "cell_type": "markdown",
      "source": [
        "Use tfidf for firstname n-grams and convert to dense vector"
      ],
      "metadata": {
        "id": "ez2_eisqoDk1"
      }
    },
    {
      "cell_type": "code",
      "source": [
        "class TfidfAndDense(BaseEstimator, TransformerMixin):\n",
        "    def __init__(self, col_name, ngram_range=(2, 3)):\n",
        "\n",
        "        self.ngram_range = ngram_range\n",
        "        self.tfidf_vectorizer = CountVectorizer(analyzer='char', ngram_range=self.ngram_range)\n",
        "        self.col_name = col_name\n",
        "\n",
        "    def fit(self, X, y=None):\n",
        "\n",
        "        z = X[self.col_name].tolist()\n",
        "        self.tfidf_vectorizer.fit(z)\n",
        "        return self\n",
        "\n",
        "    def transform(self, X):\n",
        "\n",
        "        tfidf_matrix = self.tfidf_vectorizer.transform(X[self.col_name])\n",
        "        X_dense = tfidf_matrix.toarray()\n",
        "        X_dense_df = pd.DataFrame(X_dense, columns=self.tfidf_vectorizer.get_feature_names_out(), index=X.index  )\n",
        "\n",
        "        X = pd.concat([X, X_dense_df], axis=1)\n",
        "        X = X.drop(columns = [self.col_name])\n",
        "        return X"
      ],
      "metadata": {
        "id": "dnoza7ByuA9E"
      },
      "execution_count": 23,
      "outputs": []
    },
    {
      "cell_type": "markdown",
      "source": [
        "## 6. Model selection"
      ],
      "metadata": {
        "id": "_k6Zg-jvssGN"
      }
    },
    {
      "cell_type": "markdown",
      "source": [
        "Train the classification model"
      ],
      "metadata": {
        "id": "4FQd6kKvoKF1"
      }
    },
    {
      "cell_type": "code",
      "source": [
        "class Model_training:\n",
        "\n",
        "  \"\"\" This class performs model training using given models,calculates accuracy scores using given scoring method,\n",
        "      plots the residuals,hyperparameter tuning for best model using given hyperparameters and returns the best model\n",
        "      along with evaluation metrics. \"\"\"\n",
        "\n",
        "  def __init__(self, models=None, cv=5, tune_best_model=True, param_grids={}):\n",
        "    self.models = models\n",
        "    self.cv = cv\n",
        "    self.tune_best_model = tune_best_model\n",
        "    self.param_grids = param_grids if param_grids else {}\n",
        "    self. evaluation_metrics = pd.DataFrame(index =['train_accuracy', 'test_accuracy', 'train_precision',\n",
        "                                                    'test_precision','train_recall', 'test_recall', 'train_f1', 'test_f1'])\n",
        "  # function for calculating eval parameters\n",
        "  def eval_cal(self, y, y_pred):\n",
        "    accuracy = accuracy_score(y, y_pred)\n",
        "    f1 = f1_score(y, y_pred, average='weighted')\n",
        "    precision = precision_score(y, y_pred, average='weighted')\n",
        "    recall = recall_score(y, y_pred, average='weighted')\n",
        "\n",
        "    print(f\"Accuracy Score: {accuracy}\")\n",
        "    print(f\"F1 Score: {f1}\")\n",
        "    print(f\"Precision Score: {precision}\")\n",
        "    print(f\"Recall Score: {recall}\")\n",
        "\n",
        "    return accuracy, f1, precision, recall\n",
        "\n",
        "  # function for plotting confusion matrix\n",
        "  def plot(self, y, y_pred):\n",
        "    cm = confusion_matrix(y, y_pred)\n",
        "    print(cm)\n",
        "    plt.figure(figsize=(6, 5))\n",
        "    sns.heatmap(cm, annot=True, fmt='d', cmap='Blues', xticklabels=['Class 0', 'Class 1'],\n",
        "                yticklabels=['Class 0', 'Class 1'])\n",
        "    plt.xlabel('Predicted Labels')\n",
        "    plt.ylabel('True Labels')\n",
        "    plt.title('Confusion Matrix')\n",
        "    plt.show()\n",
        "\n",
        "  ## Find best model\n",
        "  def find_model(self, X_train, y_train, X_test, y_test):   ## 1. Define function to find best model\n",
        "\n",
        "    bestModel_score = -float('inf')\n",
        "    bestModel = None\n",
        "    bestModel_name = None\n",
        "\n",
        "    # loop through all models\n",
        "    for name, model in self.models:\n",
        "\n",
        "     print(f\"Training {name} model...\")\n",
        "\n",
        "     # fit the model\n",
        "     model.fit(X_train, y_train)\n",
        "\n",
        "     # Predict train and test\n",
        "     y_pred_train = model.predict(X_train)\n",
        "     y_pred_test = model.predict(X_test)\n",
        "\n",
        "     # calculate evaluation metrics\n",
        "     train_accuracy, train_f1, train_precision, train_recall = self.eval_cal(y_train, y_pred_train)\n",
        "     test_accuracy, test_f1, test_precision, test_recall = self.eval_cal(y_test, y_pred_test)\n",
        "\n",
        "     # update metrics table\n",
        "     self.evaluation_metrics[name] = [train_accuracy, test_accuracy, train_precision,\n",
        "                                      test_precision,train_recall, test_recall, train_f1, test_f1]\n",
        "\n",
        "     # plot confusion_matrix\n",
        "     self.plot(y_test, y_pred_test)\n",
        "\n",
        "    # update the best model\n",
        "\n",
        "     if test_f1 > bestModel_score:\n",
        "\n",
        "      bestModel = model\n",
        "      bestModel_score = test_f1\n",
        "      bestModel_name = name\n",
        "\n",
        "    if (bestModel_name in self.param_grids) and self.tune_best_model:\n",
        "\n",
        "      name = bestModel_name\n",
        "      model= bestModel\n",
        "      print(f'Tuning hyperparameters for {name}, {model}')\n",
        "      param_grid = self.param_grids[name]\n",
        "\n",
        "      # search the grid\n",
        "      grid_search = RandomizedSearchCV(model, param_grid, cv=self.cv)\n",
        "      grid_search.fit(X_train, y_train)\n",
        "\n",
        "      # find the best parameters\n",
        "      best_params = grid_search.best_estimator_\n",
        "      best_params.fit(X_train, y_train)\n",
        "\n",
        "      # predict using the best tuned model\n",
        "      y_pred_train_bestparam = best_params.predict(X_train)\n",
        "      y_pred_test_bestparam = best_params.predict(X_test)\n",
        "\n",
        "      # calculate evaluation metrics\n",
        "      train_accuracy_bp, train_f1_bp, train_precision_bp, train_recall_bp = self.eval_cal(y_train, y_pred_train_bestparam)\n",
        "      test_accuracy_bp, test_f1_bp, test_precision_bp, test_recall_bp = self.eval_cal(y_test, y_pred_test_bestparam)\n",
        "\n",
        "      # plot confusion_matrix\n",
        "      self.plot(y_test, y_pred_test_bestparam)\n",
        "\n",
        "      # update metrics table\n",
        "      self.evaluation_metrics[f'{name}-hyperparameter_tuned '] = [train_accuracy_bp, test_accuracy_bp, train_precision_bp,\n",
        "                                      test_precision_bp,train_recall_bp, test_recall_bp, train_f1_bp, test_f1_bp]\n",
        "\n",
        "      print(f\"Best Hyperparameters for {bestModel_name}: {best_params} with training eroor of {train_accuracy_bp} and testing error of{ test_accuracy_bp}\")\n",
        "\n",
        "      self.plot(y_test, y_pred_test_bestparam)\n",
        "      return best_params, bestModel_name,  self.evaluation_metrics\n",
        "\n",
        "    else:\n",
        "\n",
        "      print(f\"No tuning required for {bestModel_name}\")\n",
        "\n",
        "      return bestModel, bestModel_name, self.evaluation_metrics"
      ],
      "metadata": {
        "id": "rAGbnh-N8yDF"
      },
      "execution_count": 24,
      "outputs": []
    },
    {
      "cell_type": "markdown",
      "source": [
        "Define models and tuning parameters"
      ],
      "metadata": {
        "id": "oEt2OZ9Ws17k"
      }
    },
    {
      "cell_type": "code",
      "source": [
        "## Define models and tuning parameters\n",
        "models = [('Logistic Regression', LogisticRegression(class_weight='balanced')),\n",
        "          ('Multinomial Naive Bayes', MultinomialNB(alpha = 5)),\n",
        "          ('SVC', SVC( C= 1)),\n",
        "          ('KNN', KNeighborsClassifier(n_neighbors=3)),\n",
        "          ('Random Forest', RandomForestClassifier(random_state=42)),\n",
        "          ('XGB', xgb.XGBClassifier( objective='binary:logistic'))\n",
        "          ]\n",
        "\n",
        "param_grids = {\n",
        "\n",
        "  'Multinomial Naive Bayes' : {'alpha': [0.1, 0.5, 1, 2, 5]},\n",
        "\n",
        "  'Logistic Regression' :{'C': [0.01, 0.1, 1, 10, 100],\n",
        "                           'penalty': ['l1', 'l2'],\n",
        "                           'solver': ['liblinear', 'saga'],\n",
        "                           'max_iter': [50, 100, 200],},\n",
        "\n",
        "   'SVC': { 'C': [ 0.1, 1, 10, 100],\n",
        "             'kernel': ['linear', 'rbf', 'poly'],\n",
        "             'gamma': ['scale', 'auto', 0.1, 1]},\n",
        "\n",
        "    'Random Forest' : {'n_estimators': [50, 100, 200, 500],\n",
        "                      'max_depth': [None, 10, 20, 30],\n",
        "                      'min_samples_split': [ 10, 15, 20],\n",
        "                      'min_samples_leaf': [1, 2, 4],\n",
        "                      'max_features': ['sqrt', 'log2', 0.6],\n",
        "                      'class_weight': ['balanced', None],\n",
        "                      'random_state': [42]},\n",
        "\n",
        "\n",
        "    'XGB' :  {'n_estimators': [ 200, 500, 800],\n",
        "                  'learning_rate': [0.01, 0.05, 0.1],\n",
        "                  'max_depth': [3, 5, 7],\n",
        "                  'min_child_weight': [1, 5, 10],\n",
        "                  'subsample': [0.8, 0.9, 1.0],\n",
        "                  'num_class': [2],\n",
        "                  'eval_metric': ['merror'],\n",
        "                  'random_state': [42]},\n",
        "\n",
        "    'KNN' : {'n_neighbors': [3, 5, 7, 10],\n",
        "             'weights': ['uniform', 'distance'],\n",
        "             'metric': ['euclidean', 'manhattan', 'cosine'],\n",
        "            'algorithm': ['auto', 'ball_tree', 'kd_tree', 'brute']}\n",
        "\n",
        "}\n",
        "\n",
        "\n"
      ],
      "metadata": {
        "id": "SlFBeI3yKT92"
      },
      "execution_count": 25,
      "outputs": []
    },
    {
      "cell_type": "markdown",
      "source": [
        "## ***7. Pre-processing***"
      ],
      "metadata": {
        "id": "JIEySOeAtMLV"
      }
    },
    {
      "cell_type": "markdown",
      "source": [
        "For the given data:"
      ],
      "metadata": {
        "id": "2-Xq6_-PZuJN"
      }
    },
    {
      "cell_type": "code",
      "source": [
        "# Removing irrelavant columns\n",
        "\n",
        "df_mod = df.copy()\n",
        "\n",
        "df_mod = df_mod.drop(columns = ['code', 'company', 'age'])"
      ],
      "metadata": {
        "id": "Fo3UI7-vaXrw"
      },
      "execution_count": 26,
      "outputs": []
    },
    {
      "cell_type": "markdown",
      "source": [
        "We see that almost 1/3 data has gender given as none.\n",
        "We cannot remove these rows as they are a huge chunk of data.\n",
        "therefore, we have to impute them.\n",
        "For, this, we assume that names ending with a vowel are female and names ending with a consinant are male and impute accordingly."
      ],
      "metadata": {
        "id": "ORerlSi7Vvfq"
      }
    },
    {
      "cell_type": "code",
      "source": [
        "# replacing 'none' values in gender with male/female based on whether the firstname ends with vowel or consonant\n",
        "\n",
        "vowels = 'aeiouAEIOU'\n",
        "\n",
        "df_mod['gender'] = df_mod.apply(lambda row: row['gender'].replace('none', 'female')\n",
        "                   if row['name'].split(' ')[0][-1] in vowels else row['gender'].replace('none', 'male')\n",
        "                   if row['gender'] == 'none' else row['gender'], axis=1 )\n"
      ],
      "metadata": {
        "id": "O398my-yVmhz"
      },
      "execution_count": 27,
      "outputs": []
    },
    {
      "cell_type": "code",
      "source": [
        "# Define preprocessing pipeline\n",
        "preprocessor = Pipeline([\n",
        "    ('namesplitter', Namesplitter('name')),\n",
        "    ('is_vowel_end', IsVowelEnd('Firstname')),\n",
        "    ('vectorizer', TfidfAndDense(col_name='Firstname'))\n",
        "])"
      ],
      "metadata": {
        "id": "WNcYMtk9yNs1"
      },
      "execution_count": 28,
      "outputs": []
    },
    {
      "cell_type": "code",
      "source": [
        "# splitting into train and test data\n",
        "\n",
        "X = df_mod.drop(columns = ['gender'])\n",
        "y = df_mod['gender']\n",
        "\n",
        "X_train, X_test, y_train, y_test = train_test_split(X, y, test_size=0.25, random_state=42, stratify=y)"
      ],
      "metadata": {
        "id": "vRtIoTAymSes"
      },
      "execution_count": 29,
      "outputs": []
    },
    {
      "cell_type": "code",
      "source": [
        "# preprocess the data using the pipeline\n",
        "preprocessor.fit(X_train)\n",
        "X_train_transformed = preprocessor .transform(X_train)\n",
        "X_test_transformed = preprocessor .transform(X_test)\n",
        "print(f'train_shape:{X_train_transformed.shape}')\n",
        "print(f'test_shape:{X_test_transformed.shape}')\n",
        "\n",
        "# save the pipeline\n",
        "with open('preprocessor.joblib', 'wb') as file:\n",
        "    joblib.dump(preprocessor , file)\n",
        "print(X_train_transformed.head())"
      ],
      "metadata": {
        "colab": {
          "base_uri": "https://localhost:8080/"
        },
        "id": "QrveTC070tDO",
        "outputId": "66dd1a68-fa68-4f93-b176-d57383a86465"
      },
      "execution_count": 30,
      "outputs": [
        {
          "output_type": "stream",
          "name": "stdout",
          "text": [
            "train_shape:(1005, 1145)\n",
            "test_shape:(335, 1145)\n",
            "      is_vowel_end  is_vowel_start  aa  aar  ab  abb  abe  abr  ac  ace  ...  \\\n",
            "366              1               0   0    0   0    0    0    0   0    0  ...   \n",
            "983              0               0   0    0   0    0    0    0   0    0  ...   \n",
            "593              0               0   0    0   0    0    0    0   0    0  ...   \n",
            "39               1               0   0    0   0    0    0    0   0    0  ...   \n",
            "1041             1               0   0    0   0    0    0    0   0    0  ...   \n",
            "\n",
            "      yvo  za  zab  zac  zan  zar  zi  zie  zo  zoe  \n",
            "366     0   0    0    0    0    0   0    0   0    0  \n",
            "983     0   0    0    0    0    0   0    0   0    0  \n",
            "593     0   0    0    0    0    0   0    0   0    0  \n",
            "39      0   0    0    0    0    0   0    0   0    0  \n",
            "1041    0   0    0    0    0    0   0    0   0    0  \n",
            "\n",
            "[5 rows x 1145 columns]\n"
          ]
        }
      ]
    },
    {
      "cell_type": "markdown",
      "source": [
        "Encode the y"
      ],
      "metadata": {
        "id": "8MWDI5aWomGF"
      }
    },
    {
      "cell_type": "code",
      "source": [
        "from sklearn.preprocessing import LabelEncoder\n",
        "\n",
        "label_encoder = LabelEncoder()\n",
        "\n",
        "# Fit and transform on y_train, transform on y_test\n",
        "y_train_encoded = label_encoder.fit_transform(y_train)\n",
        "y_test_encoded = label_encoder.transform(y_test)\n"
      ],
      "metadata": {
        "id": "jO0KnqmG-g0m"
      },
      "execution_count": 31,
      "outputs": []
    },
    {
      "cell_type": "markdown",
      "source": [
        "## 8. ***Model training***"
      ],
      "metadata": {
        "id": "MTsWeOQZtVdF"
      }
    },
    {
      "cell_type": "markdown",
      "source": [
        "Train the model"
      ],
      "metadata": {
        "id": "aopMZuGlopfl"
      }
    },
    {
      "cell_type": "code",
      "source": [
        "model_training = Model_training(models=models, cv=5, tune_best_model=True, param_grids=param_grids)"
      ],
      "metadata": {
        "id": "RR3UW7CfNI94"
      },
      "execution_count": 32,
      "outputs": []
    },
    {
      "cell_type": "code",
      "source": [
        "model, model_name, evaluation_metrics = model_training.find_model(X_train_transformed, y_train_encoded, X_test_transformed, y_test_encoded)"
      ],
      "metadata": {
        "id": "RpZFql5LNUWA",
        "colab": {
          "base_uri": "https://localhost:8080/",
          "height": 1000
        },
        "outputId": "e8026693-30a3-46e7-d13d-028971c6b85a"
      },
      "execution_count": 33,
      "outputs": [
        {
          "output_type": "stream",
          "name": "stdout",
          "text": [
            "Training Logistic Regression model...\n",
            "Accuracy Score: 0.9213930348258706\n",
            "F1 Score: 0.9215632757005016\n",
            "Precision Score: 0.9237214342190425\n",
            "Recall Score: 0.9213930348258706\n",
            "Accuracy Score: 0.8895522388059701\n",
            "F1 Score: 0.8897659148480119\n",
            "Precision Score: 0.8912649253731344\n",
            "Recall Score: 0.8895522388059701\n",
            "[[137  14]\n",
            " [ 23 161]]\n"
          ]
        },
        {
          "output_type": "display_data",
          "data": {
            "text/plain": [
              "<Figure size 600x500 with 2 Axes>"
            ],
            "image/png": "[encoded data removed]"
          },
          "metadata": {}
        },
        {
          "output_type": "stream",
          "name": "stdout",
          "text": [
            "Training Multinomial Naive Bayes model...\n",
            "Accuracy Score: 0.8477611940298507\n",
            "F1 Score: 0.8481174759368736\n",
            "Precision Score: 0.8543185047758167\n",
            "Recall Score: 0.8477611940298507\n",
            "Accuracy Score: 0.826865671641791\n",
            "F1 Score: 0.8272863811303688\n",
            "Precision Score: 0.8314773438198231\n",
            "Recall Score: 0.826865671641791\n",
            "[[130  21]\n",
            " [ 37 147]]\n"
          ]
        },
        {
          "output_type": "display_data",
          "data": {
            "text/plain": [
              "<Figure size 600x500 with 2 Axes>"
            ],
            "image/png": "[encoded data removed]"
          },
          "metadata": {}
        },
        {
          "output_type": "stream",
          "name": "stdout",
          "text": [
            "Training SVC model...\n",
            "Accuracy Score: 0.9104477611940298\n",
            "F1 Score: 0.9103282031065714\n",
            "Precision Score: 0.9104715242718237\n",
            "Recall Score: 0.9104477611940298\n",
            "Accuracy Score: 0.8955223880597015\n",
            "F1 Score: 0.8953431989725055\n",
            "Precision Score: 0.8955683638775032\n",
            "Recall Score: 0.8955223880597015\n",
            "[[131  20]\n",
            " [ 15 169]]\n"
          ]
        },
        {
          "output_type": "display_data",
          "data": {
            "text/plain": [
              "<Figure size 600x500 with 2 Axes>"
            ],
            "image/png": "[encoded data removed]"
          },
          "metadata": {}
        },
        {
          "output_type": "stream",
          "name": "stdout",
          "text": [
            "Training KNN model...\n",
            "Accuracy Score: 0.8676616915422886\n",
            "F1 Score: 0.8679693862456106\n",
            "Precision Score: 0.8708895261249024\n",
            "Recall Score: 0.8676616915422886\n",
            "Accuracy Score: 0.8029850746268656\n",
            "F1 Score: 0.8032309043020194\n",
            "Precision Score: 0.8147513399910632\n",
            "Recall Score: 0.8029850746268656\n",
            "[[132  19]\n",
            " [ 47 137]]\n"
          ]
        },
        {
          "output_type": "display_data",
          "data": {
            "text/plain": [
              "<Figure size 600x500 with 2 Axes>"
            ],
            "image/png": "[encoded data removed]"
          },
          "metadata": {}
        },
        {
          "output_type": "stream",
          "name": "stdout",
          "text": [
            "Training Random Forest model...\n",
            "Accuracy Score: 0.945273631840796\n",
            "F1 Score: 0.9453744171495211\n",
            "Precision Score: 0.9466472390613366\n",
            "Recall Score: 0.945273631840796\n",
            "Accuracy Score: 0.9014925373134328\n",
            "F1 Score: 0.9016532591326241\n",
            "Precision Score: 0.9026028407629308\n",
            "Recall Score: 0.9014925373134328\n",
            "[[138  13]\n",
            " [ 20 164]]\n"
          ]
        },
        {
          "output_type": "display_data",
          "data": {
            "text/plain": [
              "<Figure size 600x500 with 2 Axes>"
            ],
            "image/png": "[encoded data removed]"
          },
          "metadata": {}
        },
        {
          "output_type": "stream",
          "name": "stdout",
          "text": [
            "Training XGB model...\n",
            "Accuracy Score: 0.9114427860696518\n",
            "F1 Score: 0.9114997280290242\n",
            "Precision Score: 0.9116456012716634\n",
            "Recall Score: 0.9114427860696518\n",
            "Accuracy Score: 0.8895522388059701\n",
            "F1 Score: 0.8895840220485508\n",
            "Precision Score: 0.889631759236604\n",
            "Recall Score: 0.8895522388059701\n",
            "[[133  18]\n",
            " [ 19 165]]\n"
          ]
        },
        {
          "output_type": "display_data",
          "data": {
            "text/plain": [
              "<Figure size 600x500 with 2 Axes>"
            ],
            "image/png": "[encoded data removed]"
          },
          "metadata": {}
        },
        {
          "output_type": "stream",
          "name": "stdout",
          "text": [
            "Tuning hyperparameters for Random Forest, RandomForestClassifier(random_state=42)\n",
            "Accuracy Score: 0.9263681592039801\n",
            "F1 Score: 0.9265451096058932\n",
            "Precision Score: 0.9302727636236979\n",
            "Recall Score: 0.9263681592039801\n",
            "Accuracy Score: 0.9014925373134328\n",
            "F1 Score: 0.9017318359572606\n",
            "Precision Score: 0.9066131064097818\n",
            "Recall Score: 0.9014925373134328\n",
            "[[143   8]\n",
            " [ 25 159]]\n"
          ]
        },
        {
          "output_type": "display_data",
          "data": {
            "text/plain": [
              "<Figure size 600x500 with 2 Axes>"
            ],
            "image/png": "[encoded data removed]"
          },
          "metadata": {}
        },
        {
          "output_type": "stream",
          "name": "stdout",
          "text": [
            "Best Hyperparameters for Random Forest: RandomForestClassifier(class_weight='balanced', max_features=0.6,\n",
            "                       min_samples_split=20, n_estimators=50, random_state=42) with training eroor of 0.9263681592039801 and testing error of0.9014925373134328\n",
            "[[143   8]\n",
            " [ 25 159]]\n"
          ]
        },
        {
          "output_type": "display_data",
          "data": {
            "text/plain": [
              "<Figure size 600x500 with 2 Axes>"
            ],
            "image/png": "[encoded data removed]"
          },
          "metadata": {}
        }
      ]
    },
    {
      "cell_type": "markdown",
      "source": [
        "Evaluation metrics"
      ],
      "metadata": {
        "id": "OmG7e-l5osFE"
      }
    },
    {
      "cell_type": "code",
      "source": [
        "evaluation_metrics.transpose()"
      ],
      "metadata": {
        "id": "E4gv9h33owPA",
        "colab": {
          "base_uri": "https://localhost:8080/",
          "height": 324
        },
        "outputId": "0d354a66-ca4a-4fa3-f0ea-919455f86da6"
      },
      "execution_count": 34,
      "outputs": [
        {
          "output_type": "execute_result",
          "data": {
            "text/plain": [
              "                                     train_accuracy  test_accuracy  \\\n",
              "Logistic Regression                        0.921393       0.889552   \n",
              "Multinomial Naive Bayes                    0.847761       0.826866   \n",
              "SVC                                        0.910448       0.895522   \n",
              "KNN                                        0.867662       0.802985   \n",
              "Random Forest                              0.945274       0.901493   \n",
              "XGB                                        0.911443       0.889552   \n",
              "Random Forest-hyperparameter_tuned         0.926368       0.901493   \n",
              "\n",
              "                                     train_precision  test_precision  \\\n",
              "Logistic Regression                         0.923721        0.891265   \n",
              "Multinomial Naive Bayes                     0.854319        0.831477   \n",
              "SVC                                         0.910472        0.895568   \n",
              "KNN                                         0.870890        0.814751   \n",
              "Random Forest                               0.946647        0.902603   \n",
              "XGB                                         0.911646        0.889632   \n",
              "Random Forest-hyperparameter_tuned          0.930273        0.906613   \n",
              "\n",
              "                                     train_recall  test_recall  train_f1  \\\n",
              "Logistic Regression                      0.921393     0.889552  0.921563   \n",
              "Multinomial Naive Bayes                  0.847761     0.826866  0.848117   \n",
              "SVC                                      0.910448     0.895522  0.910328   \n",
              "KNN                                      0.867662     0.802985  0.867969   \n",
              "Random Forest                            0.945274     0.901493  0.945374   \n",
              "XGB                                      0.911443     0.889552  0.911500   \n",
              "Random Forest-hyperparameter_tuned       0.926368     0.901493  0.926545   \n",
              "\n",
              "                                      test_f1  \n",
              "Logistic Regression                  0.889766  \n",
              "Multinomial Naive Bayes              0.827286  \n",
              "SVC                                  0.895343  \n",
              "KNN                                  0.803231  \n",
              "Random Forest                        0.901653  \n",
              "XGB                                  0.889584  \n",
              "Random Forest-hyperparameter_tuned   0.901732  "
            ],
            "text/html": [
              "\n",
              "  <div id=\"df-a822cfd0-6a43-4edd-8288-9a280ec179bc\" class=\"colab-df-container\">\n",
              "    <div>\n",
              "<style scoped>\n",
              "    .dataframe tbody tr th:only-of-type {\n",
              "        vertical-align: middle;\n",
              "    }\n",
              "\n",
              "    .dataframe tbody tr th {\n",
              "        vertical-align: top;\n",
              "    }\n",
              "\n",
              "    .dataframe thead th {\n",
              "        text-align: right;\n",
              "    }\n",
              "</style>\n",
              "<table border=\"1\" class=\"dataframe\">\n",
              "  <thead>\n",
              "    <tr style=\"text-align: right;\">\n",
              "      <th></th>\n",
              "      <th>train_accuracy</th>\n",
              "      <th>test_accuracy</th>\n",
              "      <th>train_precision</th>\n",
              "      <th>test_precision</th>\n",
              "      <th>train_recall</th>\n",
              "      <th>test_recall</th>\n",
              "      <th>train_f1</th>\n",
              "      <th>test_f1</th>\n",
              "    </tr>\n",
              "  </thead>\n",
              "  <tbody>\n",
              "    <tr>\n",
              "      <th>Logistic Regression</th>\n",
              "      <td>0.921393</td>\n",
              "      <td>0.889552</td>\n",
              "      <td>0.923721</td>\n",
              "      <td>0.891265</td>\n",
              "      <td>0.921393</td>\n",
              "      <td>0.889552</td>\n",
              "      <td>0.921563</td>\n",
              "      <td>0.889766</td>\n",
              "    </tr>\n",
              "    <tr>\n",
              "      <th>Multinomial Naive Bayes</th>\n",
              "      <td>0.847761</td>\n",
              "      <td>0.826866</td>\n",
              "      <td>0.854319</td>\n",
              "      <td>0.831477</td>\n",
              "      <td>0.847761</td>\n",
              "      <td>0.826866</td>\n",
              "      <td>0.848117</td>\n",
              "      <td>0.827286</td>\n",
              "    </tr>\n",
              "    <tr>\n",
              "      <th>SVC</th>\n",
              "      <td>0.910448</td>\n",
              "      <td>0.895522</td>\n",
              "      <td>0.910472</td>\n",
              "      <td>0.895568</td>\n",
              "      <td>0.910448</td>\n",
              "      <td>0.895522</td>\n",
              "      <td>0.910328</td>\n",
              "      <td>0.895343</td>\n",
              "    </tr>\n",
              "    <tr>\n",
              "      <th>KNN</th>\n",
              "      <td>0.867662</td>\n",
              "      <td>0.802985</td>\n",
              "      <td>0.870890</td>\n",
              "      <td>0.814751</td>\n",
              "      <td>0.867662</td>\n",
              "      <td>0.802985</td>\n",
              "      <td>0.867969</td>\n",
              "      <td>0.803231</td>\n",
              "    </tr>\n",
              "    <tr>\n",
              "      <th>Random Forest</th>\n",
              "      <td>0.945274</td>\n",
              "      <td>0.901493</td>\n",
              "      <td>0.946647</td>\n",
              "      <td>0.902603</td>\n",
              "      <td>0.945274</td>\n",
              "      <td>0.901493</td>\n",
              "      <td>0.945374</td>\n",
              "      <td>0.901653</td>\n",
              "    </tr>\n",
              "    <tr>\n",
              "      <th>XGB</th>\n",
              "      <td>0.911443</td>\n",
              "      <td>0.889552</td>\n",
              "      <td>0.911646</td>\n",
              "      <td>0.889632</td>\n",
              "      <td>0.911443</td>\n",
              "      <td>0.889552</td>\n",
              "      <td>0.911500</td>\n",
              "      <td>0.889584</td>\n",
              "    </tr>\n",
              "    <tr>\n",
              "      <th>Random Forest-hyperparameter_tuned</th>\n",
              "      <td>0.926368</td>\n",
              "      <td>0.901493</td>\n",
              "      <td>0.930273</td>\n",
              "      <td>0.906613</td>\n",
              "      <td>0.926368</td>\n",
              "      <td>0.901493</td>\n",
              "      <td>0.926545</td>\n",
              "      <td>0.901732</td>\n",
              "    </tr>\n",
              "  </tbody>\n",
              "</table>\n",
              "</div>\n",
              "    <div class=\"colab-df-buttons\">\n",
              "\n",
              "  <div class=\"colab-df-container\">\n",
              "    <button class=\"colab-df-convert\" onclick=\"convertToInteractive('df-a822cfd0-6a43-4edd-8288-9a280ec179bc')\"\n",
              "            title=\"Convert this dataframe to an interactive table.\"\n",
              "            style=\"display:none;\">\n",
              "\n",
              "  <svg xmlns=\"http://www.w3.org/2000/svg\" height=\"24px\" viewBox=\"0 -960 960 960\">\n",
              "    <path d=\"M120-120v-720h720v720H120Zm60-500h600v-160H180v160Zm220 220h160v-160H400v160Zm0 220h160v-160H400v160ZM180-400h160v-160H180v160Zm440 0h160v-160H620v160ZM180-180h160v-160H180v160Zm440 0h160v-160H620v160Z\"/>\n",
              "  </svg>\n",
              "    </button>\n",
              "\n",
              "  <style>\n",
              "    .colab-df-container {\n",
              "      display:flex;\n",
              "      gap: 12px;\n",
              "    }\n",
              "\n",
              "    .colab-df-convert {\n",
              "      background-color: #E8F0FE;\n",
              "      border: none;\n",
              "      border-radius: 50%;\n",
              "      cursor: pointer;\n",
              "      display: none;\n",
              "      fill: #1967D2;\n",
              "      height: 32px;\n",
              "      padding: 0 0 0 0;\n",
              "      width: 32px;\n",
              "    }\n",
              "\n",
              "    .colab-df-convert:hover {\n",
              "      background-color: #E2EBFA;\n",
              "      box-shadow: 0px 1px 2px rgba(60, 64, 67, 0.3), 0px 1px 3px 1px rgba(60, 64, 67, 0.15);\n",
              "      fill: #174EA6;\n",
              "    }\n",
              "\n",
              "    .colab-df-buttons div {\n",
              "      margin-bottom: 4px;\n",
              "    }\n",
              "\n",
              "    [theme=dark] .colab-df-convert {\n",
              "      background-color: #3B4455;\n",
              "      fill: #D2E3FC;\n",
              "    }\n",
              "\n",
              "    [theme=dark] .colab-df-convert:hover {\n",
              "      background-color: #434B5C;\n",
              "      box-shadow: 0px 1px 3px 1px rgba(0, 0, 0, 0.15);\n",
              "      filter: drop-shadow(0px 1px 2px rgba(0, 0, 0, 0.3));\n",
              "      fill: #FFFFFF;\n",
              "    }\n",
              "  </style>\n",
              "\n",
              "    <script>\n",
              "      const buttonEl =\n",
              "        document.querySelector('#df-a822cfd0-6a43-4edd-8288-9a280ec179bc button.colab-df-convert');\n",
              "      buttonEl.style.display =\n",
              "        google.colab.kernel.accessAllowed ? 'block' : 'none';\n",
              "\n",
              "      async function convertToInteractive(key) {\n",
              "        const element = document.querySelector('#df-a822cfd0-6a43-4edd-8288-9a280ec179bc');\n",
              "        const dataTable =\n",
              "          await google.colab.kernel.invokeFunction('convertToInteractive',\n",
              "                                                    [key], {});\n",
              "        if (!dataTable) return;\n",
              "\n",
              "        const docLinkHtml = 'Like what you see? Visit the ' +\n",
              "          '<a target=\"_blank\" href=https://colab.research.google.com/notebooks/data_table.ipynb>data table notebook</a>'\n",
              "          + ' to learn more about interactive tables.';\n",
              "        element.innerHTML = '';\n",
              "        dataTable['output_type'] = 'display_data';\n",
              "        await google.colab.output.renderOutput(dataTable, element);\n",
              "        const docLink = document.createElement('div');\n",
              "        docLink.innerHTML = docLinkHtml;\n",
              "        element.appendChild(docLink);\n",
              "      }\n",
              "    </script>\n",
              "  </div>\n",
              "\n",
              "\n",
              "<div id=\"df-608f9de6-fa81-4274-bb00-5554fd256892\">\n",
              "  <button class=\"colab-df-quickchart\" onclick=\"quickchart('df-608f9de6-fa81-4274-bb00-5554fd256892')\"\n",
              "            title=\"Suggest charts\"\n",
              "            style=\"display:none;\">\n",
              "\n",
              "<svg xmlns=\"http://www.w3.org/2000/svg\" height=\"24px\"viewBox=\"0 0 24 24\"\n",
              "     width=\"24px\">\n",
              "    <g>\n",
              "        <path d=\"M19 3H5c-1.1 0-2 .9-2 2v14c0 1.1.9 2 2 2h14c1.1 0 2-.9 2-2V5c0-1.1-.9-2-2-2zM9 17H7v-7h2v7zm4 0h-2V7h2v10zm4 0h-2v-4h2v4z\"/>\n",
              "    </g>\n",
              "</svg>\n",
              "  </button>\n",
              "\n",
              "<style>\n",
              "  .colab-df-quickchart {\n",
              "      --bg-color: #E8F0FE;\n",
              "      --fill-color: #1967D2;\n",
              "      --hover-bg-color: #E2EBFA;\n",
              "      --hover-fill-color: #174EA6;\n",
              "      --disabled-fill-color: #AAA;\n",
              "      --disabled-bg-color: #DDD;\n",
              "  }\n",
              "\n",
              "  [theme=dark] .colab-df-quickchart {\n",
              "      --bg-color: #3B4455;\n",
              "      --fill-color: #D2E3FC;\n",
              "      --hover-bg-color: #434B5C;\n",
              "      --hover-fill-color: #FFFFFF;\n",
              "      --disabled-bg-color: #3B4455;\n",
              "      --disabled-fill-color: #666;\n",
              "  }\n",
              "\n",
              "  .colab-df-quickchart {\n",
              "    background-color: var(--bg-color);\n",
              "    border: none;\n",
              "    border-radius: 50%;\n",
              "    cursor: pointer;\n",
              "    display: none;\n",
              "    fill: var(--fill-color);\n",
              "    height: 32px;\n",
              "    padding: 0;\n",
              "    width: 32px;\n",
              "  }\n",
              "\n",
              "  .colab-df-quickchart:hover {\n",
              "    background-color: var(--hover-bg-color);\n",
              "    box-shadow: 0 1px 2px rgba(60, 64, 67, 0.3), 0 1px 3px 1px rgba(60, 64, 67, 0.15);\n",
              "    fill: var(--button-hover-fill-color);\n",
              "  }\n",
              "\n",
              "  .colab-df-quickchart-complete:disabled,\n",
              "  .colab-df-quickchart-complete:disabled:hover {\n",
              "    background-color: var(--disabled-bg-color);\n",
              "    fill: var(--disabled-fill-color);\n",
              "    box-shadow: none;\n",
              "  }\n",
              "\n",
              "  .colab-df-spinner {\n",
              "    border: 2px solid var(--fill-color);\n",
              "    border-color: transparent;\n",
              "    border-bottom-color: var(--fill-color);\n",
              "    animation:\n",
              "      spin 1s steps(1) infinite;\n",
              "  }\n",
              "\n",
              "  @keyframes spin {\n",
              "    0% {\n",
              "      border-color: transparent;\n",
              "      border-bottom-color: var(--fill-color);\n",
              "      border-left-color: var(--fill-color);\n",
              "    }\n",
              "    20% {\n",
              "      border-color: transparent;\n",
              "      border-left-color: var(--fill-color);\n",
              "      border-top-color: var(--fill-color);\n",
              "    }\n",
              "    30% {\n",
              "      border-color: transparent;\n",
              "      border-left-color: var(--fill-color);\n",
              "      border-top-color: var(--fill-color);\n",
              "      border-right-color: var(--fill-color);\n",
              "    }\n",
              "    40% {\n",
              "      border-color: transparent;\n",
              "      border-right-color: var(--fill-color);\n",
              "      border-top-color: var(--fill-color);\n",
              "    }\n",
              "    60% {\n",
              "      border-color: transparent;\n",
              "      border-right-color: var(--fill-color);\n",
              "    }\n",
              "    80% {\n",
              "      border-color: transparent;\n",
              "      border-right-color: var(--fill-color);\n",
              "      border-bottom-color: var(--fill-color);\n",
              "    }\n",
              "    90% {\n",
              "      border-color: transparent;\n",
              "      border-bottom-color: var(--fill-color);\n",
              "    }\n",
              "  }\n",
              "</style>\n",
              "\n",
              "  <script>\n",
              "    async function quickchart(key) {\n",
              "      const quickchartButtonEl =\n",
              "        document.querySelector('#' + key + ' button');\n",
              "      quickchartButtonEl.disabled = true;  // To prevent multiple clicks.\n",
              "      quickchartButtonEl.classList.add('colab-df-spinner');\n",
              "      try {\n",
              "        const charts = await google.colab.kernel.invokeFunction(\n",
              "            'suggestCharts', [key], {});\n",
              "      } catch (error) {\n",
              "        console.error('Error during call to suggestCharts:', error);\n",
              "      }\n",
              "      quickchartButtonEl.classList.remove('colab-df-spinner');\n",
              "      quickchartButtonEl.classList.add('colab-df-quickchart-complete');\n",
              "    }\n",
              "    (() => {\n",
              "      let quickchartButtonEl =\n",
              "        document.querySelector('#df-608f9de6-fa81-4274-bb00-5554fd256892 button');\n",
              "      quickchartButtonEl.style.display =\n",
              "        google.colab.kernel.accessAllowed ? 'block' : 'none';\n",
              "    })();\n",
              "  </script>\n",
              "</div>\n",
              "\n",
              "    </div>\n",
              "  </div>\n"
            ],
            "application/vnd.google.colaboratory.intrinsic+json": {
              "type": "dataframe",
              "summary": "{\n  \"name\": \"evaluation_metrics\",\n  \"rows\": 7,\n  \"fields\": [\n    {\n      \"column\": \"train_accuracy\",\n      \"properties\": {\n        \"dtype\": \"number\",\n        \"std\": 0.03436524838534195,\n        \"min\": 0.8477611940298507,\n        \"max\": 0.945273631840796,\n        \"num_unique_values\": 7,\n        \"samples\": [\n          0.9213930348258706,\n          0.8477611940298507,\n          0.9114427860696518\n        ],\n        \"semantic_type\": \"\",\n        \"description\": \"\"\n      }\n    },\n    {\n      \"column\": \"test_accuracy\",\n      \"properties\": {\n        \"dtype\": \"number\",\n        \"std\": 0.04022341578347766,\n        \"min\": 0.8029850746268656,\n        \"max\": 0.9014925373134328,\n        \"num_unique_values\": 5,\n        \"samples\": [\n          0.826865671641791,\n          0.9014925373134328,\n          0.8955223880597015\n        ],\n        \"semantic_type\": \"\",\n        \"description\": \"\"\n      }\n    },\n    {\n      \"column\": \"train_precision\",\n      \"properties\": {\n        \"dtype\": \"number\",\n        \"std\": 0.03292901012625054,\n        \"min\": 0.8543185047758167,\n        \"max\": 0.9466472390613366,\n        \"num_unique_values\": 7,\n        \"samples\": [\n          0.9237214342190425,\n          0.8543185047758167,\n          0.9116456012716634\n        ],\n        \"semantic_type\": \"\",\n        \"description\": \"\"\n      }\n    },\n    {\n      \"column\": \"test_precision\",\n      \"properties\": {\n        \"dtype\": \"number\",\n        \"std\": 0.03692402378063595,\n        \"min\": 0.8147513399910632,\n        \"max\": 0.9066131064097818,\n        \"num_unique_values\": 7,\n        \"samples\": [\n          0.8912649253731344,\n          0.8314773438198231,\n          0.889631759236604\n        ],\n        \"semantic_type\": \"\",\n        \"description\": \"\"\n      }\n    },\n    {\n      \"column\": \"train_recall\",\n      \"properties\": {\n        \"dtype\": \"number\",\n        \"std\": 0.03436524838534195,\n        \"min\": 0.8477611940298507,\n        \"max\": 0.945273631840796,\n        \"num_unique_values\": 7,\n        \"samples\": [\n          0.9213930348258706,\n          0.8477611940298507,\n          0.9114427860696518\n        ],\n        \"semantic_type\": \"\",\n        \"description\": \"\"\n      }\n    },\n    {\n      \"column\": \"test_recall\",\n      \"properties\": {\n        \"dtype\": \"number\",\n        \"std\": 0.04022341578347766,\n        \"min\": 0.8029850746268656,\n        \"max\": 0.9014925373134328,\n        \"num_unique_values\": 5,\n        \"samples\": [\n          0.826865671641791,\n          0.9014925373134328,\n          0.8955223880597015\n        ],\n        \"semantic_type\": \"\",\n        \"description\": \"\"\n      }\n    },\n    {\n      \"column\": \"train_f1\",\n      \"properties\": {\n        \"dtype\": \"number\",\n        \"std\": 0.03426440723579899,\n        \"min\": 0.8481174759368736,\n        \"max\": 0.9453744171495211,\n        \"num_unique_values\": 7,\n        \"samples\": [\n          0.9215632757005016,\n          0.8481174759368736,\n          0.9114997280290242\n        ],\n        \"semantic_type\": \"\",\n        \"description\": \"\"\n      }\n    },\n    {\n      \"column\": \"test_f1\",\n      \"properties\": {\n        \"dtype\": \"number\",\n        \"std\": 0.040121705710877385,\n        \"min\": 0.8032309043020194,\n        \"max\": 0.9017318359572606,\n        \"num_unique_values\": 7,\n        \"samples\": [\n          0.8897659148480119,\n          0.8272863811303688,\n          0.8895840220485508\n        ],\n        \"semantic_type\": \"\",\n        \"description\": \"\"\n      }\n    }\n  ]\n}"
            }
          },
          "metadata": {},
          "execution_count": 34
        }
      ]
    },
    {
      "cell_type": "markdown",
      "source": [
        "##  ***8. Save the model and sanity check***"
      ],
      "metadata": {
        "id": "XKFFSu4CtcKd"
      }
    },
    {
      "cell_type": "markdown",
      "source": [
        "Save the model"
      ],
      "metadata": {
        "id": "vkPaunyFour2"
      }
    },
    {
      "cell_type": "code",
      "source": [
        "with open('best_classifier.joblib', 'wb') as file:\n",
        "    joblib.dump(model, file)"
      ],
      "metadata": {
        "id": "u8xENmi2B2HL"
      },
      "execution_count": 35,
      "outputs": []
    },
    {
      "cell_type": "markdown",
      "source": [
        "Function for predicting using the chosen model and reverse encoding the result"
      ],
      "metadata": {
        "id": "0_fyzrGcoxAl"
      }
    },
    {
      "cell_type": "code",
      "source": [
        "def test_predict(processor_path, model_path, test_data):\n",
        "\n",
        "    # load preprocessor and model\n",
        "    with open(processor_path, 'rb') as file:\n",
        "        processor = joblib.load(file)\n",
        "\n",
        "    with open(model_path, 'rb') as file:\n",
        "        model = joblib.load(file)\n",
        "\n",
        "    # preprocess the data\n",
        "    x_ver = processor.transform(test_data)\n",
        "\n",
        "    # predict gender\n",
        "    a = model.predict(x_ver)\n",
        "\n",
        "    # make a dictionary\n",
        "    diction = dict(zip(test_data['name'], a));\n",
        "\n",
        "    # map values\n",
        "    class_map = {0: \"Female\", 1: \"Male\"}\n",
        "\n",
        "    return [{key: class_map[value]} for key, value in diction.items()]"
      ],
      "metadata": {
        "id": "zHamgUegI2Pb"
      },
      "execution_count": 36,
      "outputs": []
    },
    {
      "cell_type": "markdown",
      "source": [
        "Testing with new names"
      ],
      "metadata": {
        "id": "IDuyb_gWpp2l"
      }
    },
    {
      "cell_type": "code",
      "source": [
        "# Test data\n",
        "df_test = pd.DataFrame({'name':[ 'Harry','Hermione', 'Minerva','Severus','Helga', 'Nick', 'Manas', 'Aparna', 'Maria', 'Lalitha','Annapurna', 'Emmie', 'Salazar', 'Veronica', 'Susan']})\n",
        "\n",
        "# Declaring paths for model and processor\n",
        "processor_path = 'preprocessor.joblib'\n",
        "model_path = 'best_classifier.joblib'\n",
        "test_data = df_test\n",
        "\n",
        "# Predict gender for test data\n",
        "test_predict(processor_path, model_path, test_data)"
      ],
      "metadata": {
        "id": "Qd6t_mrgKU5y",
        "colab": {
          "base_uri": "https://localhost:8080/"
        },
        "outputId": "e05c374d-5999-421d-88ae-2948be5c0a4b"
      },
      "execution_count": 37,
      "outputs": [
        {
          "output_type": "execute_result",
          "data": {
            "text/plain": [
              "[{'Harry': 'Male'},\n",
              " {'Hermione': 'Female'},\n",
              " {'Minerva': 'Female'},\n",
              " {'Severus': 'Male'},\n",
              " {'Helga': 'Female'},\n",
              " {'Nick': 'Male'},\n",
              " {'Manas': 'Male'},\n",
              " {'Aparna': 'Female'},\n",
              " {'Maria': 'Female'},\n",
              " {'Lalitha': 'Female'},\n",
              " {'Annapurna': 'Female'},\n",
              " {'Emmie': 'Female'},\n",
              " {'Salazar': 'Male'},\n",
              " {'Veronica': 'Female'},\n",
              " {'Susan': 'Female'}]"
            ]
          },
          "metadata": {},
          "execution_count": 37
        }
      ]
    },
    {
      "cell_type": "markdown",
      "source": [
        "# **Conclusion**"
      ],
      "metadata": {
        "id": "gCX9965dhzqZ"
      }
    },
    {
      "cell_type": "markdown",
      "source": [
        "A gender predictor based on name has been succesfully built based on Random Forest classifier with an accuracy of about 90%. The important steps used in the process are:\n",
        "\n",
        "1. Separtion of firstname and lastname.\n",
        "2. checking whether firstname starts or ends with a vowel.\n",
        "3. creating character n-grams and vectorising using TF-IDF.\n",
        "\n",
        "After the above preprocessing, steps, various classifiers have been tested and RandomForest was chosen and hyper-parameter tuned.\n",
        "\n",
        "The resulting classifier predicts gender based on name with an accuracy and f1 score of about 0.89."
      ],
      "metadata": {
        "id": "Fjb1IsQkh3yE"
      }
    }
  ]
}